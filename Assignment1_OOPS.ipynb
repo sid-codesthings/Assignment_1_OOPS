{
 "cells": [
  {
   "cell_type": "code",
   "execution_count": null,
   "id": "0e33f5bf",
   "metadata": {},
   "outputs": [],
   "source": [
    "# Problem 1: Bank Account Create a class representing a bank account with attributes like account number, \n",
    "# account holder name, and balance. Implement methods to deposit and withdraw money from the account."
   ]
  },
  {
   "cell_type": "code",
   "execution_count": 21,
   "id": "afadb730",
   "metadata": {},
   "outputs": [],
   "source": [
    "import logging\n",
    "logging.basicConfig(filename=\"problem1_bankacc.log\",level=logging.DEBUG,format='%(asctime)s - %(levelname)s - %(message)s')\n",
    "class bank_account:\n",
    "    \n",
    "    def __init__(self,acc_no,acc_holder,balance):\n",
    "        logging.info('Taking account no , account holder name and balance through constructor')\n",
    "        self.acc_no = acc_no\n",
    "        self.acc_holder = acc_holder\n",
    "        self.balance = balance\n",
    "    \n",
    "    def deposit(self):\n",
    "        try:\n",
    "            dep = int(input(\"Enter amount to be deposited \"))\n",
    "            logging.info(\"Checking Deposit Amount Validity\")\n",
    "            if(dep<1):\n",
    "                raise ValueError(\"Invalid Deposit amount\")\n",
    "            else:\n",
    "                logging.info(\"Valid Deposit Amount\")\n",
    "                print(\"Money deposited is = Rs \",dep)\n",
    "                self.balance = self.balance + dep\n",
    "                print(\"Money in account now = \",self.balance)\n",
    "                logging.info(\"New balance is %d\",self.balance)\n",
    "        except Exception as e:\n",
    "            logging.error(e)\n",
    "    \n",
    "    def withdraw(self):\n",
    "        try:\n",
    "            withd = int(input(\"Enter amount to be withdrawn \"))\n",
    "            logging.info(\"Checking for Valid Withdraw Amount\")\n",
    "            if(withd>self.balance):\n",
    "                raise ValueError(\"Withdraw Money cant be greater than balance\")\n",
    "            else:\n",
    "                logging.info(\"Valid withdraw Amount\")\n",
    "                print(\"Money withdrawn is = Rs\",withd)\n",
    "                self.balance = self.balance - withd\n",
    "                print(\"Money in account now = \",self.balance)\n",
    "                logging.info(\"New Balance is %d\",self.balance)\n",
    "        except Exception as e:\n",
    "            logging.error(e)"
   ]
  },
  {
   "cell_type": "code",
   "execution_count": 22,
   "id": "99053bc7",
   "metadata": {},
   "outputs": [],
   "source": [
    "obj1 = bank_account('B254','Sahil Das',20000)"
   ]
  },
  {
   "cell_type": "code",
   "execution_count": 23,
   "id": "c7d5abc4",
   "metadata": {},
   "outputs": [
    {
     "name": "stdout",
     "output_type": "stream",
     "text": [
      "Enter amount to be deposited 25000\n",
      "Money deposited is = Rs  25000\n",
      "Money in account now =  45000\n"
     ]
    }
   ],
   "source": [
    "obj1.deposit()"
   ]
  },
  {
   "cell_type": "code",
   "execution_count": 24,
   "id": "196153be",
   "metadata": {},
   "outputs": [
    {
     "data": {
      "text/plain": [
       "'Sahil Das'"
      ]
     },
     "execution_count": 24,
     "metadata": {},
     "output_type": "execute_result"
    }
   ],
   "source": [
    "obj1.acc_holder"
   ]
  },
  {
   "cell_type": "code",
   "execution_count": 25,
   "id": "baf5c402",
   "metadata": {},
   "outputs": [
    {
     "data": {
      "text/plain": [
       "45000"
      ]
     },
     "execution_count": 25,
     "metadata": {},
     "output_type": "execute_result"
    }
   ],
   "source": [
    "obj1.balance"
   ]
  },
  {
   "cell_type": "code",
   "execution_count": 26,
   "id": "f6a57e1e",
   "metadata": {},
   "outputs": [
    {
     "data": {
      "text/plain": [
       "'B254'"
      ]
     },
     "execution_count": 26,
     "metadata": {},
     "output_type": "execute_result"
    }
   ],
   "source": [
    "obj1.acc_no"
   ]
  },
  {
   "cell_type": "code",
   "execution_count": 27,
   "id": "c3165541",
   "metadata": {},
   "outputs": [
    {
     "name": "stdout",
     "output_type": "stream",
     "text": [
      "Enter amount to be withdrawn 15000\n",
      "Money withdrawn is = Rs 15000\n",
      "Money in account now =  30000\n"
     ]
    }
   ],
   "source": [
    "obj1.withdraw()"
   ]
  },
  {
   "cell_type": "code",
   "execution_count": 28,
   "id": "15dbccba",
   "metadata": {},
   "outputs": [
    {
     "data": {
      "text/plain": [
       "30000"
      ]
     },
     "execution_count": 28,
     "metadata": {},
     "output_type": "execute_result"
    }
   ],
   "source": [
    "obj1.balance"
   ]
  },
  {
   "cell_type": "code",
   "execution_count": null,
   "id": "19fdc077",
   "metadata": {},
   "outputs": [],
   "source": [
    "# Problem 2: Employee Management Create a class representing an employee with attributes like employee ID, name, and \n",
    "# salary. Implement methods to calculate the yearly bonus and display employee details."
   ]
  },
  {
   "cell_type": "code",
   "execution_count": 20,
   "id": "92cbb658",
   "metadata": {},
   "outputs": [],
   "source": [
    "import logging\n",
    "logging.basicConfig(filename=\"problem2.log\",level=logging.DEBUG,format='%(asctime)s - %(levelname)s - %(message)s')\n",
    "class employee:\n",
    "    def __init__(self,emp_id,emp_name,salary):\n",
    "        logging.info(\"Taking Employee ID , Employee Name and Salary through Constructor\")\n",
    "        self.emp_id = emp_id\n",
    "        self.emp_name=emp_name\n",
    "        self.salary=salary\n",
    "    def bonus(self):\n",
    "        try:\n",
    "            bon=int(input('Enter Bonus Amount per month = '))\n",
    "            logging.info(\"checking valid bonus amount\")\n",
    "            if(bon<0):\n",
    "                logging.info(\"Invalid Amount\")\n",
    "                raise Exception(\"Negative amount given as input\")\n",
    "            else:\n",
    "                logging.info(\"Valid Bonus Amount\")\n",
    "                bon = bon *12\n",
    "                print('Employee ',self.emp_name,' with Employee ID ',self.emp_id,' having salary ',self.salary,' per month gets yearly bonus of ',bon)\n",
    "        except Exception as e:\n",
    "            logging.error(e)"
   ]
  },
  {
   "cell_type": "code",
   "execution_count": 23,
   "id": "46801255",
   "metadata": {},
   "outputs": [],
   "source": [
    "obj2 = employee('MK548','Manash Kumar',50000)"
   ]
  },
  {
   "cell_type": "code",
   "execution_count": 24,
   "id": "15c56c69",
   "metadata": {},
   "outputs": [
    {
     "name": "stdout",
     "output_type": "stream",
     "text": [
      "Enter Bonus Amount per month = 500\n",
      "Employee  Manash Kumar  with Employee ID  MK548  having salary  50000  per month gets yearly bonus of  6000\n"
     ]
    }
   ],
   "source": [
    "obj2.bonus()"
   ]
  },
  {
   "cell_type": "code",
   "execution_count": null,
   "id": "1f67d192",
   "metadata": {},
   "outputs": [],
   "source": [
    "# Problem 3: Vehicle Rental Create a class representing a vehicle rental system. Implement methods to rent a \n",
    "# vehicle, return a vehicle, and display available vehicles."
   ]
  },
  {
   "cell_type": "code",
   "execution_count": 45,
   "id": "891529fc",
   "metadata": {},
   "outputs": [],
   "source": [
    "import logging\n",
    "logging.basicConfig(filename='oops_problem3.log',level=logging.DEBUG,format='%(asctime)s- %(levelname)s- %(message)s')\n",
    "class vehicle:\n",
    "        logging.info(\"Declaring a list of cars as class variable\")\n",
    "        l = ['Scorpio','BMW','I10','Alto']\n",
    "        def rent(self):\n",
    "            try:\n",
    "                name=str(input('Enter Vehicle Name = '))\n",
    "                logging.info('Selecting Vehicle')\n",
    "                if (name==''):\n",
    "                    raise Exception(\"No Vehicle Name given\")\n",
    "                else:\n",
    "                    logging.info(\"Vehicle Selected and Rented\")\n",
    "                    self.l.remove(name)\n",
    "                    return self.l\n",
    "                    l = self.l\n",
    "            except Exception as e:\n",
    "                logging.error(e)\n",
    "        def returning(self):\n",
    "            try:\n",
    "                ret_veh = str(input(\"Enter Vehicle Name that you are returning = \"))\n",
    "                if(ret_veh==''):\n",
    "                    raise Exception(\"Invalid Vehicle Name\")\n",
    "                else:\n",
    "                    logging.info(\"Vehicle has been returned\")\n",
    "                    self.l.append(ret_veh)\n",
    "                    return self.l\n",
    "                    l = self.l\n",
    "            except Exception as e:\n",
    "                logging.error(e)\n",
    "        def display(self):\n",
    "            return self.l\n",
    "        "
   ]
  },
  {
   "cell_type": "code",
   "execution_count": 46,
   "id": "2d2d6ef5",
   "metadata": {},
   "outputs": [],
   "source": [
    "obj3 = vehicle()"
   ]
  },
  {
   "cell_type": "code",
   "execution_count": 47,
   "id": "74a38176",
   "metadata": {},
   "outputs": [
    {
     "data": {
      "text/plain": [
       "['Scorpio', 'BMW', 'I10', 'Alto']"
      ]
     },
     "execution_count": 47,
     "metadata": {},
     "output_type": "execute_result"
    }
   ],
   "source": [
    "obj3.display()"
   ]
  },
  {
   "cell_type": "code",
   "execution_count": 48,
   "id": "5152a4ea",
   "metadata": {},
   "outputs": [
    {
     "name": "stdout",
     "output_type": "stream",
     "text": [
      "Enter Vehicle Name = I10\n"
     ]
    },
    {
     "data": {
      "text/plain": [
       "['Scorpio', 'BMW', 'Alto']"
      ]
     },
     "execution_count": 48,
     "metadata": {},
     "output_type": "execute_result"
    }
   ],
   "source": [
    "obj3.rent()"
   ]
  },
  {
   "cell_type": "code",
   "execution_count": 49,
   "id": "43c85d6d",
   "metadata": {},
   "outputs": [
    {
     "name": "stdout",
     "output_type": "stream",
     "text": [
      "Enter Vehicle Name that you are returning = I10\n"
     ]
    },
    {
     "data": {
      "text/plain": [
       "['Scorpio', 'BMW', 'Alto', 'I10']"
      ]
     },
     "execution_count": 49,
     "metadata": {},
     "output_type": "execute_result"
    }
   ],
   "source": [
    "obj3.returning()"
   ]
  },
  {
   "cell_type": "code",
   "execution_count": 50,
   "id": "75290514",
   "metadata": {},
   "outputs": [
    {
     "data": {
      "text/plain": [
       "['Scorpio', 'BMW', 'Alto', 'I10']"
      ]
     },
     "execution_count": 50,
     "metadata": {},
     "output_type": "execute_result"
    }
   ],
   "source": [
    "obj3.display()"
   ]
  },
  {
   "cell_type": "code",
   "execution_count": 16,
   "id": "974bd59f",
   "metadata": {},
   "outputs": [],
   "source": [
    "# Problem 4: Library Catalog Create classes representing a library and a book. Implement methods to add books to the \n",
    "# library, borrow books, and display available books."
   ]
  },
  {
   "cell_type": "code",
   "execution_count": 37,
   "id": "bc55a92b",
   "metadata": {},
   "outputs": [],
   "source": [
    "import logging\n",
    "logging.basicConfig(filename='problem4.log',level=logging.DEBUG,format='%(asctime)s- %(levelname)s- %(message)s')\n",
    "class library:\n",
    "    logging.info(\"Declaring a list of books as class variable\")\n",
    "    l = ['Data Science','Python Basics','Javascript Intro']\n",
    "    \n",
    "    def addbooks(self):\n",
    "        try:\n",
    "            logging.info(\"Taking New book\")\n",
    "            newbook=str(input('Enter new book '))\n",
    "            if(newbook==''):\n",
    "                raise Exception('This Cant be a book name')\n",
    "            else:\n",
    "                self.l.append(newbook)\n",
    "                return self.l\n",
    "                l = self.l\n",
    "        except Exception as e:\n",
    "            logging.error(e)\n",
    "    def borrow(self):\n",
    "        try:\n",
    "            logging.info(\"Taking Book Name\")\n",
    "            borr=str(input('Enter book you want to borrow '))\n",
    "            if(borr==''):\n",
    "                raise Exception(\"This Cant be a book name\")\n",
    "            else:\n",
    "                self.l.remove(borr)\n",
    "                return self.l\n",
    "                l = self.l\n",
    "        except Exception as e:\n",
    "            logging.error(e)\n",
    "    def display(self):\n",
    "        return self.l"
   ]
  },
  {
   "cell_type": "code",
   "execution_count": 38,
   "id": "68fbebd8",
   "metadata": {},
   "outputs": [],
   "source": [
    "obj4 = library()"
   ]
  },
  {
   "cell_type": "code",
   "execution_count": 39,
   "id": "51d30ab9",
   "metadata": {},
   "outputs": [
    {
     "data": {
      "text/plain": [
       "['Data Science', 'Python Basics', 'Javascript Intro']"
      ]
     },
     "execution_count": 39,
     "metadata": {},
     "output_type": "execute_result"
    }
   ],
   "source": [
    "obj4.display()"
   ]
  },
  {
   "cell_type": "code",
   "execution_count": 40,
   "id": "6c90df61",
   "metadata": {},
   "outputs": [
    {
     "name": "stdout",
     "output_type": "stream",
     "text": [
      "Enter new book Tensorflow Intro\n"
     ]
    },
    {
     "data": {
      "text/plain": [
       "['Data Science', 'Python Basics', 'Javascript Intro', 'Tensorflow Intro']"
      ]
     },
     "execution_count": 40,
     "metadata": {},
     "output_type": "execute_result"
    }
   ],
   "source": [
    "obj4.addbooks()"
   ]
  },
  {
   "cell_type": "code",
   "execution_count": 41,
   "id": "4803726f",
   "metadata": {},
   "outputs": [
    {
     "name": "stdout",
     "output_type": "stream",
     "text": [
      "Enter book you want to borrow Data Science\n"
     ]
    },
    {
     "data": {
      "text/plain": [
       "['Python Basics', 'Javascript Intro', 'Tensorflow Intro']"
      ]
     },
     "execution_count": 41,
     "metadata": {},
     "output_type": "execute_result"
    }
   ],
   "source": [
    "obj4.borrow()"
   ]
  },
  {
   "cell_type": "code",
   "execution_count": 42,
   "id": "c6a8613a",
   "metadata": {},
   "outputs": [
    {
     "data": {
      "text/plain": [
       "['Python Basics', 'Javascript Intro', 'Tensorflow Intro']"
      ]
     },
     "execution_count": 42,
     "metadata": {},
     "output_type": "execute_result"
    }
   ],
   "source": [
    "obj4.display()"
   ]
  },
  {
   "cell_type": "code",
   "execution_count": null,
   "id": "54aa3fec",
   "metadata": {},
   "outputs": [],
   "source": [
    "# Problem 5: Product Inventory Create classes representing a product and an inventory system. Implement methods to add products to the \n",
    "# inventory, update product quantity, and display available products."
   ]
  },
  {
   "cell_type": "code",
   "execution_count": 50,
   "id": "968040e9",
   "metadata": {},
   "outputs": [],
   "source": [
    "import logging\n",
    "logging.basicConfig(filename='problem5.log',level=logging.DEBUG,format='%(asctime)s- %(levelname)s- %(message)s')\n",
    "class product:\n",
    "    logging.info(\"Declaring a list of products as class variable\")\n",
    "    l = ['Bags','Rice','Orange Juice']\n",
    "    q = ['5' , '100 kg' , '50 Litres']\n",
    "    \n",
    "    def addproduct(self):\n",
    "        try:\n",
    "            logging.info(\"Trying to take a new product\")\n",
    "            newprod=str(input('Enter new product '))\n",
    "            newprod_quantity=str(input('Enter New Product Quantity'))\n",
    "            if(newprod==''):\n",
    "                raise Exception('This Cant be a product name')\n",
    "            else:\n",
    "                logging.info(\"New Product Taken\")\n",
    "                self.l.append(newprod)\n",
    "                self.q.append(newprod_quantity)\n",
    "                logging.info(\"New product Quantity Taken\")\n",
    "                return self.l , self.q\n",
    "        except Exception as e:\n",
    "            logging.error(e)\n",
    "    def update(self):\n",
    "        try:\n",
    "            pos=0\n",
    "            logging.info(\"Taking Update Info\")\n",
    "            updprod=str(input('Which product you want to update ? '))\n",
    "            if(updprod==''):\n",
    "                raise Exception('This cant be a product')\n",
    "            else:\n",
    "                for i in self.l:\n",
    "                    if(i==updprod):\n",
    "                        q1=self.q\n",
    "                        s2= str(input('Enter New Quantity = '))\n",
    "                        q1[pos]=s2\n",
    "                        break\n",
    "                    else:\n",
    "                        pos=pos+1\n",
    "            logging.info(\"Quantity of Product Updated\")\n",
    "            return q1\n",
    "        except Exception as e:\n",
    "            logging.error(e)\n",
    "    def display(self):\n",
    "        logging.info(\"Displaying All products and Quantities\")\n",
    "        return self.l , self.q"
   ]
  },
  {
   "cell_type": "code",
   "execution_count": 51,
   "id": "7a4313e5",
   "metadata": {},
   "outputs": [],
   "source": [
    "obj5 = product()"
   ]
  },
  {
   "cell_type": "code",
   "execution_count": 52,
   "id": "d669dc2d",
   "metadata": {},
   "outputs": [
    {
     "data": {
      "text/plain": [
       "['Bags', 'Rice', 'Orange Juice']"
      ]
     },
     "execution_count": 52,
     "metadata": {},
     "output_type": "execute_result"
    }
   ],
   "source": [
    "obj5.l"
   ]
  },
  {
   "cell_type": "code",
   "execution_count": 53,
   "id": "0638bbfa",
   "metadata": {},
   "outputs": [
    {
     "data": {
      "text/plain": [
       "['5', '100 kg', '50 Litres']"
      ]
     },
     "execution_count": 53,
     "metadata": {},
     "output_type": "execute_result"
    }
   ],
   "source": [
    "obj5.q"
   ]
  },
  {
   "cell_type": "code",
   "execution_count": 54,
   "id": "6f6163d6",
   "metadata": {},
   "outputs": [
    {
     "name": "stdout",
     "output_type": "stream",
     "text": [
      "Enter new product Chips\n",
      "Enter New Product Quantity1 Kg\n"
     ]
    },
    {
     "data": {
      "text/plain": [
       "(['Bags', 'Rice', 'Orange Juice', 'Chips'],\n",
       " ['5', '100 kg', '50 Litres', '1 Kg'])"
      ]
     },
     "execution_count": 54,
     "metadata": {},
     "output_type": "execute_result"
    }
   ],
   "source": [
    "obj5.addproduct()"
   ]
  },
  {
   "cell_type": "code",
   "execution_count": 55,
   "id": "506d86c9",
   "metadata": {},
   "outputs": [
    {
     "name": "stdout",
     "output_type": "stream",
     "text": [
      "Enter new product Honey\n",
      "Enter New Product Quantity2 Litres\n"
     ]
    },
    {
     "data": {
      "text/plain": [
       "(['Bags', 'Rice', 'Orange Juice', 'Chips', 'Honey'],\n",
       " ['5', '100 kg', '50 Litres', '1 Kg', '2 Litres'])"
      ]
     },
     "execution_count": 55,
     "metadata": {},
     "output_type": "execute_result"
    }
   ],
   "source": [
    "obj5.addproduct()"
   ]
  },
  {
   "cell_type": "code",
   "execution_count": 56,
   "id": "48bf0a7f",
   "metadata": {},
   "outputs": [
    {
     "name": "stdout",
     "output_type": "stream",
     "text": [
      "Which product you want to update ? Chips\n",
      "Enter New Quantity = 5 Kg\n"
     ]
    },
    {
     "data": {
      "text/plain": [
       "['5', '100 kg', '50 Litres', '5 Kg', '2 Litres']"
      ]
     },
     "execution_count": 56,
     "metadata": {},
     "output_type": "execute_result"
    }
   ],
   "source": [
    "obj5.update()"
   ]
  },
  {
   "cell_type": "code",
   "execution_count": 57,
   "id": "f4511cc8",
   "metadata": {},
   "outputs": [
    {
     "name": "stdout",
     "output_type": "stream",
     "text": [
      "Which product you want to update ? Rice\n",
      "Enter New Quantity = 500 Kg\n"
     ]
    },
    {
     "data": {
      "text/plain": [
       "['5', '500 Kg', '50 Litres', '5 Kg', '2 Litres']"
      ]
     },
     "execution_count": 57,
     "metadata": {},
     "output_type": "execute_result"
    }
   ],
   "source": [
    "obj5.update()"
   ]
  },
  {
   "cell_type": "code",
   "execution_count": 58,
   "id": "2a963b67",
   "metadata": {},
   "outputs": [
    {
     "name": "stdout",
     "output_type": "stream",
     "text": [
      "Which product you want to update ? Bags\n",
      "Enter New Quantity = 10\n"
     ]
    },
    {
     "data": {
      "text/plain": [
       "['10', '500 Kg', '50 Litres', '5 Kg', '2 Litres']"
      ]
     },
     "execution_count": 58,
     "metadata": {},
     "output_type": "execute_result"
    }
   ],
   "source": [
    "obj5.update()"
   ]
  },
  {
   "cell_type": "code",
   "execution_count": 59,
   "id": "3fad0c54",
   "metadata": {},
   "outputs": [
    {
     "data": {
      "text/plain": [
       "(['Bags', 'Rice', 'Orange Juice', 'Chips', 'Honey'],\n",
       " ['10', '500 Kg', '50 Litres', '5 Kg', '2 Litres'])"
      ]
     },
     "execution_count": 59,
     "metadata": {},
     "output_type": "execute_result"
    }
   ],
   "source": [
    "obj5.display()"
   ]
  },
  {
   "cell_type": "code",
   "execution_count": null,
   "id": "5d445d89",
   "metadata": {},
   "outputs": [],
   "source": [
    "#Problem 6: Shape Calculation Create a class representing a shape with attributes like length, width, and height. \n",
    "#Implement methods to calculate the area and perimeter of the shape."
   ]
  },
  {
   "cell_type": "code",
   "execution_count": 15,
   "id": "142853e9",
   "metadata": {},
   "outputs": [],
   "source": [
    "import logging\n",
    "logging.basicConfig(filename='problem6.log',level=logging.DEBUG,format='%(asctime)s- %(levelname)s- %(message)s')\n",
    "class shape:\n",
    "    def area_rect_square(self):\n",
    "        try:\n",
    "            logging.info('Taking length and breadth of rectangle')\n",
    "            l = int(input('Enter Length of the rectangle = '))\n",
    "            b = int(input('Enter Breadth of the rectangle = '))\n",
    "            if(l < 1 or b < 1):\n",
    "                raise Exception('Invalid Input')\n",
    "            else:\n",
    "                logging.info('Printing Area of rectangle')\n",
    "                print(\"Area is = \",l*b)\n",
    "        except Exception as e:\n",
    "            logging.error(e)\n",
    "    def area_triangle(self):\n",
    "        try:\n",
    "            logging.info('Taking Base and height of triangle')\n",
    "            base = int(input('Enter base of the triangle = '))\n",
    "            height = int(input('Enter height of the triangle = '))\n",
    "            if(base < 1 or height < 1):\n",
    "                raise Exception(\"Invalid Input\")\n",
    "            else:\n",
    "                logging.info('Printing Area of triangle')\n",
    "                print(\"Area of a triangle is = \",(base*height)/2)\n",
    "        except Exception as e:\n",
    "            logging.error(e)"
   ]
  },
  {
   "cell_type": "code",
   "execution_count": 16,
   "id": "585522de",
   "metadata": {},
   "outputs": [],
   "source": [
    "obj6 = shape()"
   ]
  },
  {
   "cell_type": "code",
   "execution_count": 13,
   "id": "673f5d3d",
   "metadata": {},
   "outputs": [
    {
     "name": "stdout",
     "output_type": "stream",
     "text": [
      "Enter Length of the rectangle = 5\n",
      "Enter Breadth of the rectangle = 6\n",
      "Area is =  30\n"
     ]
    }
   ],
   "source": [
    "obj6.area_rect_square()"
   ]
  },
  {
   "cell_type": "code",
   "execution_count": 69,
   "id": "66b70162",
   "metadata": {},
   "outputs": [
    {
     "name": "stdout",
     "output_type": "stream",
     "text": [
      "Enter base of the triangle = 5\n",
      "Enter height of the triangle = 10\n",
      "Area of a triangle is =  25.0\n"
     ]
    }
   ],
   "source": [
    "obj6.area_triangle()"
   ]
  },
  {
   "cell_type": "code",
   "execution_count": 14,
   "id": "bca194ac",
   "metadata": {},
   "outputs": [
    {
     "name": "stdout",
     "output_type": "stream",
     "text": [
      "Enter Length of the rectangle = 0\n",
      "Enter Breadth of the rectangle = 5\n"
     ]
    }
   ],
   "source": [
    "obj6.area_rect_square()"
   ]
  },
  {
   "cell_type": "code",
   "execution_count": 17,
   "id": "505d66e5",
   "metadata": {},
   "outputs": [
    {
     "name": "stdout",
     "output_type": "stream",
     "text": [
      "Enter base of the triangle = 0\n",
      "Enter height of the triangle = 5\n"
     ]
    }
   ],
   "source": [
    "obj6.area_triangle()"
   ]
  },
  {
   "cell_type": "code",
   "execution_count": null,
   "id": "2e13f23e",
   "metadata": {},
   "outputs": [],
   "source": [
    "#Problem 7: Student Management Create a class representing a student with attributes like student ID, name, and grades. \n",
    "#Implement methods to calculate the average grade and display student details."
   ]
  },
  {
   "cell_type": "code",
   "execution_count": 5,
   "id": "5253f297",
   "metadata": {},
   "outputs": [],
   "source": [
    "import logging\n",
    "logging.basicConfig(filename='problem7.log',level=logging.DEBUG,format = '%(asctime)s- %(levelname)s- %(message)s')\n",
    "class student:\n",
    "    def __init__(self,student_id,name,grade1,grade2,grade3):\n",
    "        logging.info(\"Taking Student info through a constructor\")\n",
    "        self.student_id = student_id\n",
    "        self.name = name\n",
    "        self.grade1 = grade1\n",
    "        self.grade2 = grade2\n",
    "        self.grade3 = grade3\n",
    "        \n",
    "    def avgrade(self):\n",
    "        logging.info('Calculating Grade Average')\n",
    "        avg = (self.grade1 + self.grade2 + self.grade3)/3\n",
    "        return avg\n",
    "    def display(self,avg):\n",
    "        logging.info(\"Displaying Student Details with their individual grade and average grade.\")\n",
    "        print(self.student_id,'',self.name,'',self.grade1,'',self.grade2,'',self.grade3,'',avg)\n",
    "        "
   ]
  },
  {
   "cell_type": "code",
   "execution_count": 6,
   "id": "1fe0a111",
   "metadata": {},
   "outputs": [],
   "source": [
    "obj7 = student('I57','Kanu Pal',50,70,60)"
   ]
  },
  {
   "cell_type": "code",
   "execution_count": 7,
   "id": "c2252152",
   "metadata": {},
   "outputs": [
    {
     "data": {
      "text/plain": [
       "60.0"
      ]
     },
     "execution_count": 7,
     "metadata": {},
     "output_type": "execute_result"
    }
   ],
   "source": [
    "obj7.avgrade()"
   ]
  },
  {
   "cell_type": "code",
   "execution_count": 8,
   "id": "8ef1bf5e",
   "metadata": {},
   "outputs": [
    {
     "name": "stdout",
     "output_type": "stream",
     "text": [
      "I57  Kanu Pal  50  70  60  60.0\n"
     ]
    }
   ],
   "source": [
    "obj7.display(obj7.avgrade())"
   ]
  },
  {
   "cell_type": "code",
   "execution_count": null,
   "id": "cdcae428",
   "metadata": {},
   "outputs": [],
   "source": [
    "# Problem 8: Email Management Create a class representing an email with attributes like sender, recipient, and subject. \n",
    "# Implement methods to send an email and display email details."
   ]
  },
  {
   "cell_type": "code",
   "execution_count": 6,
   "id": "ae92aa8f",
   "metadata": {},
   "outputs": [],
   "source": [
    "import logging\n",
    "logging.basicConfig(filename='problem8.log',level=logging.DEBUG,format='%(asctime)s- %(levelname)s- %(message)s')\n",
    "class email:\n",
    "    def __init__(self,sender,recipient,subject):\n",
    "        logging.info('Taking sender, recipeient and subject through a constructor')\n",
    "        self.sender = sender\n",
    "        self.recipient = recipient\n",
    "        self.subject = subject\n",
    "    def sendmail(self):\n",
    "        logging.info(\"Sending Mail\")\n",
    "        return 'mail from ' + self.sender + ' has been sent to ' + self.recipient + ' with subject- ' + self.subject\n",
    "    def details(self):\n",
    "        try:\n",
    "            body = str(input('Write the mail body '))\n",
    "            if(body==''):\n",
    "                raise Exception(\"Empty Mail\")\n",
    "            else:\n",
    "                logging.info(\"Displaying body of mail\")\n",
    "                return body\n",
    "        except Exception as e:\n",
    "            logging.error(e)"
   ]
  },
  {
   "cell_type": "code",
   "execution_count": 7,
   "id": "001888c3",
   "metadata": {},
   "outputs": [],
   "source": [
    "obj8 = email('raman@umail.com','shyam@kmail.com','Regarding Job Application')"
   ]
  },
  {
   "cell_type": "code",
   "execution_count": 8,
   "id": "2879d89e",
   "metadata": {},
   "outputs": [
    {
     "data": {
      "text/plain": [
       "'mail from raman@umail.com has been sent to shyam@kmail.com with subject- Regarding Job Application'"
      ]
     },
     "execution_count": 8,
     "metadata": {},
     "output_type": "execute_result"
    }
   ],
   "source": [
    "obj8.sendmail()"
   ]
  },
  {
   "cell_type": "code",
   "execution_count": 9,
   "id": "cc8fcc41",
   "metadata": {},
   "outputs": [
    {
     "name": "stdout",
     "output_type": "stream",
     "text": [
      "Write the mail body Hello , I have sent you the documents.\n"
     ]
    },
    {
     "data": {
      "text/plain": [
       "'Hello , I have sent you the documents.'"
      ]
     },
     "execution_count": 9,
     "metadata": {},
     "output_type": "execute_result"
    }
   ],
   "source": [
    "obj8.details()"
   ]
  },
  {
   "cell_type": "code",
   "execution_count": 10,
   "id": "8fea3b80",
   "metadata": {},
   "outputs": [
    {
     "name": "stdout",
     "output_type": "stream",
     "text": [
      "Write the mail body \n"
     ]
    }
   ],
   "source": [
    "obj8.details()"
   ]
  },
  {
   "cell_type": "code",
   "execution_count": null,
   "id": "f7798002",
   "metadata": {},
   "outputs": [],
   "source": [
    "# Problem 9: Social Media Profile Create a class representing a social media profile with attributes like username and posts. \n",
    "# Implement methods to add posts, display posts, and search for posts by keyword."
   ]
  },
  {
   "cell_type": "code",
   "execution_count": 30,
   "id": "9d94216f",
   "metadata": {},
   "outputs": [],
   "source": [
    "class profile:\n",
    "    def __init__(self,username,post):\n",
    "        self.username = username\n",
    "        self.post = post\n",
    "    def add_posts(self):\n",
    "        l = []\n",
    "        l = self.post\n",
    "        print(\"Added New Post: \",self.post)\n",
    "    def display_posts(self,l):\n",
    "        print('The posts : ',l)"
   ]
  },
  {
   "cell_type": "code",
   "execution_count": 31,
   "id": "cf020c95",
   "metadata": {},
   "outputs": [],
   "source": [
    "obj9 = profile('hyk_klever','Hi this is my first post')"
   ]
  },
  {
   "cell_type": "code",
   "execution_count": 32,
   "id": "bea462ac",
   "metadata": {},
   "outputs": [
    {
     "name": "stdout",
     "output_type": "stream",
     "text": [
      "Added New Post:  Hi this is my first post\n"
     ]
    }
   ],
   "source": [
    "obj9.add_posts()"
   ]
  },
  {
   "cell_type": "code",
   "execution_count": 33,
   "id": "2939fd26",
   "metadata": {},
   "outputs": [],
   "source": [
    "obj9 = profile('hyk_klever','Hi this is my 2nd post')"
   ]
  },
  {
   "cell_type": "code",
   "execution_count": 34,
   "id": "ab4633bf",
   "metadata": {
    "scrolled": true
   },
   "outputs": [
    {
     "name": "stdout",
     "output_type": "stream",
     "text": [
      "Added New Post:  Hi this is my 2nd post\n"
     ]
    }
   ],
   "source": [
    "obj9.add_posts()"
   ]
  },
  {
   "cell_type": "code",
   "execution_count": 35,
   "id": "83969442",
   "metadata": {
    "scrolled": true
   },
   "outputs": [
    {
     "ename": "TypeError",
     "evalue": "profile.display_posts() missing 1 required positional argument: 'l'",
     "output_type": "error",
     "traceback": [
      "\u001b[1;31m---------------------------------------------------------------------------\u001b[0m",
      "\u001b[1;31mTypeError\u001b[0m                                 Traceback (most recent call last)",
      "Cell \u001b[1;32mIn[35], line 1\u001b[0m\n\u001b[1;32m----> 1\u001b[0m \u001b[43mobj9\u001b[49m\u001b[38;5;241;43m.\u001b[39;49m\u001b[43mdisplay_posts\u001b[49m\u001b[43m(\u001b[49m\u001b[43m)\u001b[49m\n",
      "\u001b[1;31mTypeError\u001b[0m: profile.display_posts() missing 1 required positional argument: 'l'"
     ]
    }
   ],
   "source": [
    "obj9.display_posts()"
   ]
  },
  {
   "cell_type": "code",
   "execution_count": null,
   "id": "f37275c5",
   "metadata": {},
   "outputs": [],
   "source": []
  }
 ],
 "metadata": {
  "kernelspec": {
   "display_name": "Python 3 (ipykernel)",
   "language": "python",
   "name": "python3"
  },
  "language_info": {
   "codemirror_mode": {
    "name": "ipython",
    "version": 3
   },
   "file_extension": ".py",
   "mimetype": "text/x-python",
   "name": "python",
   "nbconvert_exporter": "python",
   "pygments_lexer": "ipython3",
   "version": "3.11.3"
  }
 },
 "nbformat": 4,
 "nbformat_minor": 5
}
